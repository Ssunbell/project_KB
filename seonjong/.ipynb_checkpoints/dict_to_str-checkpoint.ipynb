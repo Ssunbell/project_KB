{
 "cells": [
  {
   "cell_type": "code",
   "execution_count": 26,
   "id": "d0a66be8",
   "metadata": {},
   "outputs": [],
   "source": [
    "import json\n",
    "import pandas as pd\n",
    "import os\n",
    "\n",
    "data_path = '../data/law/original_data/'\n",
    "\n",
    "file_name = os.listdir(data_path)\n",
    "for file in file_name:\n",
    "    name = file.replace('.json','')\n",
    "    with open(data_path + file, 'r') as f:\n",
    "        data = json.load(f)\n",
    "\n",
    "    total_dict = {}\n",
    "    sum_dict = {}\n",
    "    for key, value in data[name].items():\n",
    "        i = 0\n",
    "        df_input = []\n",
    "        tmp_dict = {}\n",
    "        for k, v in value.items():\n",
    "            df_input.append({i : str(k+ json.dumps(v, ensure_ascii=False))})\n",
    "            i += 1\n",
    "        df = pd.DataFrame(df_input)\n",
    "        for i in range(len(df)):\n",
    "            tmp_dict[i] = df[i][i]\n",
    "        sum_dict[key] = tmp_dict\n",
    "    total_dict[name] = sum_dict\n",
    "\n",
    "    with open('../data/law/' + file, 'w') as outfile:\n",
    "        json.dump(total_dict, outfile, indent=\"\\t\", ensure_ascii=False)\n",
    "\n"
   ]
  },
  {
   "cell_type": "code",
   "execution_count": null,
   "id": "2ed4dc12",
   "metadata": {},
   "outputs": [],
   "source": []
  }
 ],
 "metadata": {
  "kernelspec": {
   "display_name": "tf",
   "language": "python",
   "name": "tf"
  },
  "language_info": {
   "codemirror_mode": {
    "name": "ipython",
    "version": 3
   },
   "file_extension": ".py",
   "mimetype": "text/x-python",
   "name": "python",
   "nbconvert_exporter": "python",
   "pygments_lexer": "ipython3",
   "version": "3.9.0"
  }
 },
 "nbformat": 4,
 "nbformat_minor": 5
}
